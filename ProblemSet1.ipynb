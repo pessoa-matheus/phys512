{
 "cells": [
  {
   "cell_type": "markdown",
   "metadata": {},
   "source": [
    "# Problem set 1-Computational Physics.\n",
    "# Matheus Azevedo Silva Pessôa, ID: 260889844"
   ]
  },
  {
   "cell_type": "markdown",
   "metadata": {},
   "source": [
    "### Problem 1 \n",
    "We saw in class how Taylor series/roundoff errors fight against\n",
    "each other when deciding how big a step size to use when calculating numerical\n",
    "derivatives. If we allow ourselves to evaluate our function f at four points (x ± δ\n",
    "and x ± 2δ).\n",
    "\n",
    "-  what should our estimate of the first derivative at x be? Rather than doing\n",
    "a complicated fit, I suggest thinking about how to combine the derivative from\n",
    "x ± δ with the derivative from x ± 2δ to cancel the next term in the Taylor\n",
    "series.\n",
    "\n",
    "\n",
    "- Now that you have your operator for the derivative, what should δ be in\n",
    "terms of the machine precision and various properties of the function? Show for\n",
    "f (x) = exp(x) and f (x) = exp(0.01x) that your estimate of the optimal δ is at\n",
    "least roughly correct."
   ]
  },
  {
   "cell_type": "code",
   "execution_count": 3,
   "metadata": {},
   "outputs": [
    {
     "data": {
      "text/plain": [
       "array([  1.07321559,   1.11022302,   1.22124533,   1.31376391,\n",
       "         1.57281595,   1.66533454,   1.90588286,   1.96139401,\n",
       "         2.18343862,   2.73855013,   3.21964677,   3.44169138,\n",
       "         3.92278802,   4.36687723,   5.10702591,   5.62512999,\n",
       "         5.99520433,   6.36527867,   7.40148683,   8.36368012,\n",
       "         6.66133815,   6.36527867,   8.28966525,   9.02981393,\n",
       "         9.91799235,  10.65814104,  11.25025998,  13.02661682,\n",
       "        12.43449788,  16.5793305 ,  15.98721155,  19.83598471,\n",
       "        21.0202226 ,  22.50051997,  26.05323364,  29.60594732,\n",
       "        32.56654206,  35.52713679,  39.07985047,  46.18527782,\n",
       "        53.29070518,  56.84341886,  63.94884622,  71.05427358,\n",
       "        78.15970093,  93.55479354,  99.47598301, 106.58141036,\n",
       "       130.26616822, 146.84549872])"
      ]
     },
     "execution_count": 3,
     "metadata": {},
     "output_type": "execute_result"
    }
   ],
   "source": [
    "# Code for problem 1\n",
    "#Defining the derivative in function of the first and second order terms in the Taylor expansion\n",
    "\n",
    "import numpy as np \n",
    "import matplotlib.pyplot as plt\n",
    "from scipy import interpolate\n",
    "import random \n",
    "\n",
    "def deriv(f,x,h):\n",
    "    f_prime = (8*f(x+h)-8*f(x-h)-f(x+2*h)+f(x-2*h))/(12*h)\n",
    "    return f_prime\n",
    "\n",
    "#Testing for different values. First, np.exp with epsilon=1E-15.\n",
    "deriv(np.exp,np.linspace(0,5),1E-15)"
   ]
  },
  {
   "cell_type": "code",
   "execution_count": 4,
   "metadata": {},
   "outputs": [
    {
     "data": {
      "text/plain": [
       "array([  1.        ,   1.22240181,   1.47104551,   1.77635684,\n",
       "         2.18343862,   2.49800181,   3.01610588,   3.40468394,\n",
       "         3.94129174,   5.21804822,   6.40228611,   7.32747196,\n",
       "         8.80776933,  10.14003696,  11.99040867,  13.98881011,\n",
       "        15.69115208,  17.31947918,  20.13204418,  24.12884707,\n",
       "        19.83598471,  21.0202226 ,  26.64535259,  31.67836364,\n",
       "        34.93501784,  34.93501784,  42.0404452 ,  49.14587256,\n",
       "        45.59315888,  66.317322  ,  63.94884622,  78.15970093,\n",
       "        91.18631776,  95.92326933, 117.2395514 , 129.08193033,\n",
       "       137.37159558, 165.79330501, 180.00415973, 222.63672387,\n",
       "       270.00623959, 279.48014273, 341.06051316, 364.74527102,\n",
       "       426.32564146, 516.32772132, 568.43418861, 634.75151061,\n",
       "       748.43834833, 881.07299234])"
      ]
     },
     "execution_count": 4,
     "metadata": {},
     "output_type": "execute_result"
    }
   ],
   "source": [
    "f = lambda x: x*np.exp(x)\n",
    "deriv(f,np.linspace(0,5),1E-15)"
   ]
  },
  {
   "cell_type": "code",
   "execution_count": null,
   "metadata": {},
   "outputs": [],
   "source": [
    "#The second item is in the LaTeX file! Thanks."
   ]
  },
  {
   "cell_type": "markdown",
   "metadata": {},
   "source": [
    "### Problem 2\n",
    "\n",
    "Lakeshore 670 diodes (successors to the venerable Lakeshore\n",
    "470) are temperature-sensitive diodes used for a range of cryogenic temperature\n",
    "measurements. They are fed with a constant 10 μA current, and the voltage is\n",
    "read out. Lakeshore provides a chart that converts voltage to temperature, avail-\n",
    "able at https://www.lakeshore.com/products/categories/specification/temperature-products/cryogenic-temperature-sensors/dt-670-silicon-diodes, or you can look\n",
    "at the text file I’ve helpfully copied and pasted (lakeshore.txt). Write a routine\n",
    "that will take an arbitrary voltage and interpolate to return a temperature. You\n",
    "should also make some sort of quantitative (but possibly rough) estimate of the\n",
    "error in your interpolation as well."
   ]
  },
  {
   "cell_type": "code",
   "execution_count": 5,
   "metadata": {},
   "outputs": [],
   "source": [
    "#Code for problem 2.\n",
    "#Some important libraries!\n",
    "import numpy as np \n",
    "import matplotlib.pyplot as plt\n",
    "from scipy import interpolate\n",
    "import random "
   ]
  },
  {
   "cell_type": "code",
   "execution_count": 6,
   "metadata": {},
   "outputs": [
    {
     "name": "stdout",
     "output_type": "stream",
     "text": [
      "0.521265637116\n"
     ]
    }
   ],
   "source": [
    "#Opening datapoints from lakeshore.txt.\n",
    "#Taking voltage and temperature data in order to test the interpolation. However, it is better to work with a list\n",
    "#so I can sort it and put it into the spline command, since they need to be sorted out.\n",
    "#Here I also take a random value in the range of the first and last elements of voltage because we will use them \n",
    "#afterwards. \n",
    "data = np.loadtxt(\"lakeshore.txt\")\n",
    "temperature = data[:,0]\n",
    "voltage = data[:,1]\n",
    "derivative = data[:,2]\n",
    "voltage=voltage.tolist()\n",
    "temperature=temperature.tolist()\n",
    "voltage_sorted=sorted(voltage)\n",
    "temperature_sorted=sorted(temperature,reverse=True) #To have the same thing again\n",
    "random_voltage = random.uniform(voltage[0],voltage[-1])\n",
    "print(random_voltage)"
   ]
  },
  {
   "cell_type": "code",
   "execution_count": 7,
   "metadata": {},
   "outputs": [
    {
     "data": {
      "image/png": "[encoded data removed]",
      "text/plain": [
       "<Figure size 432x288 with 1 Axes>"
      ]
     },
     "metadata": {
      "needs_background": "light"
     },
     "output_type": "display_data"
    }
   ],
   "source": [
    "#Plotting the data. This is how temperature depends on voltage.\n",
    "plt.plot(voltage_sorted,temperature_sorted,\".\")\n",
    "plt.xlabel(\"Voltage (V)\",fontsize=\"large\")\n",
    "plt.ylabel(\"Temperature (K)\",fontsize=\"large\")\n",
    "plt.show()"
   ]
  },
  {
   "cell_type": "code",
   "execution_count": 8,
   "metadata": {},
   "outputs": [],
   "source": [
    "#Values for variables in the text file. Setting upt to make a spline interpolation.\n",
    "x = voltage_sorted\n",
    "y = temperature_sorted\n",
    "xx = np.linspace(voltage_sorted[0],voltage_sorted[-1],len(x))"
   ]
  },
  {
   "cell_type": "code",
   "execution_count": 9,
   "metadata": {},
   "outputs": [
    {
     "data": {
      "image/png": "[encoded data removed]",
      "text/plain": [
       "<Figure size 432x288 with 1 Axes>"
      ]
     },
     "metadata": {
      "needs_background": "light"
     },
     "output_type": "display_data"
    }
   ],
   "source": [
    "#Using a spline interpolation.\n",
    "spln = interpolate.splrep(x,y)\n",
    "yy = interpolate.splev(xx,spln)\n",
    "plt.clf();\n",
    "plt.plot(x,y,\"*\")\n",
    "plt.plot(xx,yy)\n",
    "plt.xlabel(\"Voltage (V)\",fontsize=\"large\")\n",
    "plt.ylabel(\"Temperature (K)\",fontsize=\"large\")\n",
    "plt.show()"
   ]
  },
  {
   "cell_type": "code",
   "execution_count": 10,
   "metadata": {},
   "outputs": [
    {
     "name": "stdout",
     "output_type": "stream",
     "text": [
      "('The temperature associated with', 0.5212656371163242, ' volts is')\n",
      "316.59286285274993\n"
     ]
    }
   ],
   "source": [
    "print (\"The temperature associated with\",random_voltage, \" volts is\")\n",
    "print(interpolate.splev(random_voltage,spln))"
   ]
  },
  {
   "cell_type": "code",
   "execution_count": 30,
   "metadata": {},
   "outputs": [
    {
     "ename": "NameError",
     "evalue": "name 'derivative' is not defined",
     "output_type": "error",
     "traceback": [
      "\u001b[0;31m---------------------------------------------------------------------------\u001b[0m",
      "\u001b[0;31mNameError\u001b[0m                                 Traceback (most recent call last)",
      "\u001b[0;32m<ipython-input-30-7685a730738a>\u001b[0m in \u001b[0;36m<module>\u001b[0;34m()\u001b[0m\n\u001b[1;32m      2\u001b[0m \u001b[0;31m# values for the derivative of temperature in function of voltage and the derivative of the spline itself.\u001b[0m\u001b[0;34m\u001b[0m\u001b[0;34m\u001b[0m\u001b[0;34m\u001b[0m\u001b[0m\n\u001b[1;32m      3\u001b[0m \u001b[0;31m#It is indeed a rough estimate.\u001b[0m\u001b[0;34m\u001b[0m\u001b[0;34m\u001b[0m\u001b[0;34m\u001b[0m\u001b[0m\n\u001b[0;32m----> 4\u001b[0;31m \u001b[0mfirstelementderiv\u001b[0m\u001b[0;34m=\u001b[0m\u001b[0mlist\u001b[0m\u001b[0;34m(\u001b[0m\u001b[0mderivative\u001b[0m\u001b[0;34m)\u001b[0m\u001b[0;34m[\u001b[0m\u001b[0;36m1\u001b[0m\u001b[0;34m]\u001b[0m\u001b[0;34m\u001b[0m\u001b[0;34m\u001b[0m\u001b[0m\n\u001b[0m\u001b[1;32m      5\u001b[0m \u001b[0mfirstelementinterpolation\u001b[0m\u001b[0;34m=\u001b[0m\u001b[0mlist\u001b[0m\u001b[0;34m(\u001b[0m\u001b[0mnp\u001b[0m\u001b[0;34m.\u001b[0m\u001b[0mdiff\u001b[0m\u001b[0;34m(\u001b[0m\u001b[0myy\u001b[0m\u001b[0;34m)\u001b[0m\u001b[0;34m)\u001b[0m\u001b[0;34m[\u001b[0m\u001b[0;36m1\u001b[0m\u001b[0;34m]\u001b[0m\u001b[0;34m\u001b[0m\u001b[0;34m\u001b[0m\u001b[0m\n\u001b[1;32m      6\u001b[0m \u001b[0;32mprint\u001b[0m\u001b[0;34m(\u001b[0m\u001b[0mfirstelementinterpolation\u001b[0m\u001b[0;34m/\u001b[0m\u001b[0mfirstelementderiv\u001b[0m\u001b[0;34m)\u001b[0m\u001b[0;34m\u001b[0m\u001b[0;34m\u001b[0m\u001b[0m\n",
      "\u001b[0;31mNameError\u001b[0m: name 'derivative' is not defined"
     ]
    }
   ],
   "source": [
    "#Estimating the error roughly. About 31-36% is the value I have found considering the comparisons between both\n",
    "# values for the derivative of temperature in function of voltage and the derivative of the spline itself. \n",
    "#It is indeed a rough estimate.\n",
    "firstelementderiv=list(derivative)[1]\n",
    "firstelementinterpolation=list(np.diff(yy))[1]\n",
    "print(firstelementinterpolation/firstelementderiv)\n",
    "lastelementinterpolation=list(np.diff(yy))[-1]\n",
    "lastelementderiv=list(derivative)[-1]\n",
    "print(lastelementinterpolation/lastelementderiv)"
   ]
  },
  {
   "cell_type": "code",
   "execution_count": null,
   "metadata": {},
   "outputs": [],
   "source": [
    "#Comments in the LaTeX file."
   ]
  },
  {
   "cell_type": "markdown",
   "metadata": {},
   "source": [
    "### Problem 3\n",
    "\n",
    "Write a recursive variable step size integrator like the one we\n",
    "wrote in class that does NOT call f (x) multiple times for the same x. For a\n",
    "few typical examples, how many function calls do you save vs. the lazy way we\n",
    "wrote it in class?"
   ]
  },
  {
   "cell_type": "code",
   "execution_count": 30,
   "metadata": {},
   "outputs": [
    {
     "name": "stdout",
     "output_type": "stream",
     "text": [
      "('Integral=', 22023.747512978258, 'with', 22535, 'evaluations, and corresponding error', 3.6688328301319003e-11)\n",
      "('Integral', 22023.747512978258, 'with', 9017, 'evaluations, and corresponding error', 3.6688328301319003e-11)\n",
      "(0, 'percent advantage')\n"
     ]
    }
   ],
   "source": [
    "import numpy as np\n",
    "# The funcion I want to integrate. In this case, exp(x).\n",
    "def yourfunction(x):\n",
    "    return np.exp(x)\n",
    "#This is the integrator we used in class.\n",
    "def class_integrator(func,a,b,tol):\n",
    "    x = np.linspace(a,b,5)\n",
    "    y = func(x)\n",
    "    # Simpson rule for points 0,2,4 (left,middle,right)\n",
    "    f1 = (((y[0]+4*y[2]+y[4]))*(b-a))/6.0\n",
    "    # Simpson rule for each point\n",
    "    f2 = ((y[0]+4*y[1]+2*y[2]+4*y[3]+y[4])*(b-a))/12.0\n",
    "    # The error according to Simpson rule\n",
    "    error = np.abs(f2-f1)/15.0\n",
    "    neval= len(x)\n",
    "    if error<tol:\n",
    "        return (16.0*f2-f1)/15.0,error, neval\n",
    "    else:\n",
    "        middle_point = (a+b)/2.0\n",
    "        left_int,error_left,neval_left = class_integrator(func,a,middle_point,tol/2.0)\n",
    "        right_int,error_right,neval_right = class_integrator(func,middle_point,b,tol/2.0)\n",
    "        integral = left_int+right_int\n",
    "        total_error = error_left+error_right\n",
    "        total_neval = neval+neval_left+neval_right\n",
    "        return integral, total_error, total_neval\n",
    "\n",
    "#The new integrator takes into account the points we have already calculated instead of recalculating them again\n",
    "#For this, we call two other \n",
    "def new_integrator(func,a,b,tol,newx=[],newy=[]):\n",
    "    # The five points with which we begin\n",
    "    x = np.linspace(a,b,5)\n",
    "    y = []\n",
    "    neval = 0\n",
    "    #For the first-ever evaluation, there will be no values sitting on the list newx[]. Then we can calculate the \n",
    "    #integral and add the results to this list.\n",
    "    if len(newx)==0:\n",
    "        neval+=5\n",
    "        for i in range(len(x)):\n",
    "            newx.append(x[i])\n",
    "            newy.append(func(x[i]))\n",
    "            y.append(func(x[i]))\n",
    "    if len(newx)>0:\n",
    "    # If this is not the first evaluation, we would like to know wheter we do or not have a value for a given point \n",
    "    #i already sitting on the list.\n",
    "        for i in range(len(x)):\n",
    "            # If this is true, then we add that to the newx[] list.\n",
    "            if x[i] in newx:\n",
    "                y.append(func(x[i]))\n",
    "            # when this is not true, we will definitely need to call the integrator again.\n",
    "            else:\n",
    "                newy.append(func(x[i]))\n",
    "                newx.append(x[i])\n",
    "                y.append(func(x[i]))\n",
    "                neval+=1    \n",
    "    # Simpson rule for points 0,2,4 (left,middle,right)\n",
    "    f1 = (((y[0]+4*y[2]+y[4]))*(b-a))/6.0\n",
    "    # Simpson rule for each point\n",
    "    f2 = ((y[0]+4*y[1]+2*y[2]+4*y[3]+y[4])*(b-a))/12.0\n",
    "    # The error according to Simpson rule\n",
    "    error = np.abs(f2-f1)/15.0\n",
    "    if error<tol:\n",
    "        return (16.0*f2-f1)/15.0,error, neval\n",
    "    else:\n",
    "        # if the error is large, we want to use the function again\n",
    "        # but using different points\n",
    "        middle_point = (a+b)/2.0\n",
    "        left_int,error_left,neval_left = new_integrator(func,a,middle_point,tol/2.0,newx,newy)\n",
    "        right_int,error_right,neval_right = new_integrator(func,middle_point,b,tol/2.0,newx,newy)\n",
    "        integral = left_int+right_int\n",
    "        total_error = error_left+error_right\n",
    "        total_neval = neval+neval_left+neval_right\n",
    "        return integral, total_error, total_neval\n",
    "\n",
    "integral, error, neval = class_integrator(yourfunction,1,10,1e-10)\n",
    "print(\"Integral=\",integral,\"with\",neval,\"evaluations, and corresponding error\",error)\n",
    "integral2, error2, neval2 = new_integrator(yourfunction,1,10,1e-10)\n",
    "print(\"Integral\",integral2, \"with\",neval2,\"evaluations, and corresponding error\", error2)   \n",
    "print ((neval2/neval), \"percent advantage\")"
   ]
  },
  {
   "cell_type": "markdown",
   "metadata": {},
   "source": [
    "### Problem 4\n",
    "\n",
    "One can work out the electric field from an infinitessimally\n",
    "thin spherical shell of charge with radius R by working out the field from a ring\n",
    "along its central axis, and integrating those rings to form a spherical shell. Use\n",
    "both your integrator and scipy.integrate.quad to plot the electric field from the\n",
    "shell as a function of distance from the center of the sphere. Make sure the\n",
    "range of your plot covers regions with z < R and z > R. Make sure one of your\n",
    "z values is R. Is there a singularity in the integral? Does quad care? Does your\n",
    "integrator? Note - if you get stuck setting up the problem, you may be able to\n",
    "find solutions to Griffiths problem 2.7, which sets up the integral."
   ]
  },
  {
   "cell_type": "code",
   "execution_count": 14,
   "metadata": {},
   "outputs": [],
   "source": [
    "import scipy.integrate as integrate\n",
    "import matplotlib.pyplot as plt\n",
    "import numpy as np\n",
    "import random"
   ]
  },
  {
   "cell_type": "code",
   "execution_count": 15,
   "metadata": {},
   "outputs": [],
   "source": [
    "function = lambda theta: (z-R*np.cos(theta))*np.sin(theta)/((R**2+z**2-2*R*z*np.cos(theta))**(1.5))"
   ]
  },
  {
   "cell_type": "code",
   "execution_count": 16,
   "metadata": {},
   "outputs": [],
   "source": [
    "R=5\n",
    "zz = np.linspace(0,10,200)\n",
    "E_z=[]\n",
    "error=[]\n",
    "for i in range (len(zz)):\n",
    "    z = zz[i]\n",
    "    E_z = np.append(E_z, integrate.quad(function, 0, np.pi)[0])\n",
    "    error = np.append(E_z, integrate.quad(function, 0 , np.pi)[1])"
   ]
  },
  {
   "cell_type": "code",
   "execution_count": 17,
   "metadata": {},
   "outputs": [
    {
     "data": {
      "image/png": "[encoded data removed]",
      "text/plain": [
       "<Figure size 432x288 with 1 Axes>"
      ]
     },
     "metadata": {
      "needs_background": "light"
     },
     "output_type": "display_data"
    }
   ],
   "source": [
    "plt.plot(zz, E_z,'*')\n",
    "plt.xlabel(\"z\",fontsize=\"large\")\n",
    "plt.ylabel(\"Electric field in z \",fontsize=\"large\")\n",
    "plt.show()"
   ]
  },
  {
   "cell_type": "code",
   "execution_count": 26,
   "metadata": {},
   "outputs": [],
   "source": [
    "#Now we will use a variable step size integrator to integrate the function.\n",
    "\n",
    "import numpy as np\n",
    "import sys\n",
    "sys.setrecursionlimit(20000)\n",
    "\n",
    "def simple_integrate(a,b,tol,z,R):\n",
    "    u=np.linspace(a,b,5)\n",
    "    y=(z-R*u)/(R**2+z**2-2*R*z*u)**(1.5)\n",
    "    f1=(y[0]+4*y[2]+y[4])/6.0*(b-a)\n",
    "    f2=(y[0]+4*y[1]+2*y[2]+4*y[3]+y[4])/12.0*(b-a)\n",
    "    myerr=np.abs(f2-f1)\n",
    "    neval=len(u)\n",
    "    if (myerr<tol):\n",
    "        #return (f2)/1.0,myerr,neval\n",
    "        return (16.0*f2-f1)/15.0,myerr,neval\n",
    "    else:\n",
    "        mid=0.5*(b+a)\n",
    "        f_left,err_left,neval_left=simple_integrate(a,mid,tol,2,3)\n",
    "        f_right,err_right,neval_right=simple_integrate(mid,b,tol,2,3)\n",
    "        neval=neval+neval_left+neval_right\n",
    "        f=f_left+f_right\n",
    "        err=err_left+err_right\n",
    "        return f,err,neval\n",
    "f,err,neval=simple_integrate(-1,1,0.1,2,3)"
   ]
  }
 ],
 "metadata": {
  "kernelspec": {
   "display_name": "Python 3",
   "language": "python",
   "name": "python3"
  },
  "language_info": {
   "codemirror_mode": {
    "name": "ipython",
    "version": 2
   },
   "file_extension": ".py",
   "mimetype": "text/x-python",
   "name": "python",
   "nbconvert_exporter": "python",
   "pygments_lexer": "ipython2",
   "version": "2.7.15+"
  }
 },
 "nbformat": 4,
 "nbformat_minor": 2
}
